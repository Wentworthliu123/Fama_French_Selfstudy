{
 "cells": [
  {
   "cell_type": "code",
   "execution_count": 36,
   "metadata": {
    "scrolled": true
   },
   "outputs": [
    {
     "name": "stdout",
     "output_type": "stream",
     "text": [
      "start\n"
     ]
    }
   ],
   "source": [
    "import os\n",
    "import re\n",
    "year='2011'\n",
    "oldyear='2012'\n",
    "evenold=str(int(oldyear)+1)\n",
    "# replacement strings\n",
    "WINDOWS_LINE_ENDING = b'\\r\\n'\n",
    "UNIX_LINE_ENDING = b'\\n'\n",
    "filepath = \"F:\\\\RA_Fama_French_Factor\\\\five_factor_model\\\\HF_Package\\\\Comparison_PY_MAT_FF\\\\Calculation by year\"\n",
    "if __name__ == \"__main__\":\n",
    "    print(\"start\")\n",
    "    if not os.path.exists(filepath):\n",
    "        print(\"目录不存在!!\")\n",
    "        os._exit(1)\n",
    "    filenames = os.listdir(filepath)\n",
    "    for data in filenames:\n",
    "        if data[:4]==oldyear:\n",
    "            newname = year + data[4:]\n",
    "        else:\n",
    "            newname = year + data\n",
    "        print(newname)\n",
    "        os.rename(filepath + '\\\\' + data,filepath + '\\\\' + newname)\n",
    "        \n",
    "    filenames = os.listdir(filepath)\n",
    "    new_filelist=[col for col in filenames if \"Intraday_RCC_newmatching\" in col]\n",
    "    for data in new_filelist:\n",
    "        lis=data.split('.')\n",
    "        if lis[1]=='sbatch':\n",
    "            f = open(data, \"r+\")\n",
    "            s=f.read()#读出 \n",
    "            f.seek(0,0) #指针移到头  原来的数据还在 是替换 会存在一个问题 如果少   会替换不了全部数据，自已思考解决!!!\n",
    "            #从头写入\n",
    "            f.write(s.replace(oldyear+\"Intraday_RCC_newmatching_\",year+\"Intraday_RCC_newmatching_\"))\n",
    "            f.write(s.replace(f\"start={oldyear}0701\",f\"start={oldyear}0701\"))\n",
    "            f.write(s.replace(f\"end={evenold}0630\",f\"end={oldyear}0630\"))\n",
    "\n",
    "            f.close()\n",
    "            \n",
    "            with open(data, 'rb') as open_file:\n",
    "                content = open_file.read()\n",
    "            content = content.replace(WINDOWS_LINE_ENDING, UNIX_LINE_ENDING)\n",
    "\n",
    "            with open(data, 'wb') as open_file:\n",
    "                open_file.write(content)\n",
    "            \n",
    "\n",
    "        elif lis[1]=='py':\n",
    "            f = open(data, \"r+\")\n",
    "            s=f.read()#读出 \n",
    "            f.seek(0,0) #指针移到头  原来的数据还在 是替换 会存在一个问题 如果少   会替换不了全部数据，自已思考解决!!!\n",
    "            #从头写入\n",
    "            f.write(s.replace(f\"CSV_FILE_PATH = '{oldyear}0701_0630_daily_all_RCC.csv'\",f\"CSV_FILE_PATH = '{year}0701_0630_daily_all_RCC.csv'\"))\n",
    "            f.close()\n",
    "            \n",
    "\n",
    "            "
   ]
  },
  {
   "cell_type": "code",
   "execution_count": null,
   "metadata": {},
   "outputs": [],
   "source": []
  },
  {
   "cell_type": "code",
   "execution_count": 27,
   "metadata": {},
   "outputs": [],
   "source": [
    "sentence='start=20150701'"
   ]
  },
  {
   "cell_type": "code",
   "execution_count": 32,
   "metadata": {},
   "outputs": [],
   "source": [
    "a=re.match(\"start=\",sentence)"
   ]
  },
  {
   "cell_type": "code",
   "execution_count": 34,
   "metadata": {},
   "outputs": [],
   "source": [
    "evenold=str(int(oldyear)+1)"
   ]
  },
  {
   "cell_type": "code",
   "execution_count": 35,
   "metadata": {},
   "outputs": [
    {
     "data": {
      "text/plain": [
       "'2013'"
      ]
     },
     "execution_count": 35,
     "metadata": {},
     "output_type": "execute_result"
    }
   ],
   "source": [
    "evenold"
   ]
  },
  {
   "cell_type": "code",
   "execution_count": null,
   "metadata": {},
   "outputs": [],
   "source": []
  },
  {
   "cell_type": "code",
   "execution_count": 33,
   "metadata": {},
   "outputs": [
    {
     "data": {
      "text/plain": [
       "<re.Match object; span=(0, 6), match='start='>"
      ]
     },
     "execution_count": 33,
     "metadata": {},
     "output_type": "execute_result"
    }
   ],
   "source": [
    "a"
   ]
  },
  {
   "cell_type": "code",
   "execution_count": null,
   "metadata": {},
   "outputs": [],
   "source": []
  },
  {
   "cell_type": "code",
   "execution_count": null,
   "metadata": {},
   "outputs": [],
   "source": []
  },
  {
   "cell_type": "code",
   "execution_count": null,
   "metadata": {},
   "outputs": [],
   "source": []
  },
  {
   "cell_type": "code",
   "execution_count": null,
   "metadata": {},
   "outputs": [],
   "source": []
  },
  {
   "cell_type": "code",
   "execution_count": null,
   "metadata": {},
   "outputs": [],
   "source": []
  },
  {
   "cell_type": "code",
   "execution_count": null,
   "metadata": {},
   "outputs": [],
   "source": []
  },
  {
   "cell_type": "code",
   "execution_count": null,
   "metadata": {},
   "outputs": [],
   "source": []
  },
  {
   "cell_type": "code",
   "execution_count": null,
   "metadata": {},
   "outputs": [],
   "source": []
  },
  {
   "cell_type": "code",
   "execution_count": null,
   "metadata": {},
   "outputs": [],
   "source": []
  },
  {
   "cell_type": "code",
   "execution_count": null,
   "metadata": {},
   "outputs": [],
   "source": []
  },
  {
   "cell_type": "code",
   "execution_count": null,
   "metadata": {},
   "outputs": [],
   "source": [
    "dos2unix "
   ]
  },
  {
   "cell_type": "code",
   "execution_count": 14,
   "metadata": {},
   "outputs": [
    {
     "data": {
      "text/plain": [
       "['2012Portfolio_RCC', 'py']"
      ]
     },
     "execution_count": 14,
     "metadata": {},
     "output_type": "execute_result"
    }
   ],
   "source": [
    "lis"
   ]
  },
  {
   "cell_type": "code",
   "execution_count": 15,
   "metadata": {},
   "outputs": [
    {
     "data": {
      "text/plain": [
       "['.ipynb_checkpoints',\n",
       " '2012Intraday_RCC_newmatching.sbatch',\n",
       " '2012Intraday_RCC_newmatching120.sbatch',\n",
       " '2012Intraday_RCC_newmatching150.sbatch',\n",
       " '2012Intraday_RCC_newmatching180.sbatch',\n",
       " '2012Intraday_RCC_newmatching60.sbatch',\n",
       " '2012Intraday_RCC_newmatching90.sbatch',\n",
       " '2012Intraday_RCC_newmatchingrest.sbatch',\n",
       " '2012Intraday_RCC_newmatching_120.py',\n",
       " '2012Intraday_RCC_newmatching_150.py',\n",
       " '2012Intraday_RCC_newmatching_180.py',\n",
       " '2012Intraday_RCC_newmatching_30.py',\n",
       " '2012Intraday_RCC_newmatching_60.py',\n",
       " '2012Intraday_RCC_newmatching_90.py',\n",
       " '2012Intraday_RCC_newmatching_rest.py',\n",
       " '2012MAT_PY_FF.py',\n",
       " '2012Portfolio_RCC.py',\n",
       " '2012rating_Daily_Matching.py',\n",
       " '2012文件名.ipynb',\n",
       " '批量修改文件名.ipynb']"
      ]
     },
     "execution_count": 15,
     "metadata": {},
     "output_type": "execute_result"
    }
   ],
   "source": [
    "filenames"
   ]
  },
  {
   "cell_type": "code",
   "execution_count": 17,
   "metadata": {},
   "outputs": [],
   "source": []
  },
  {
   "cell_type": "code",
   "execution_count": 18,
   "metadata": {},
   "outputs": [
    {
     "data": {
      "text/plain": [
       "['2012Intraday_RCC_newmatching.sbatch',\n",
       " '2012Intraday_RCC_newmatching120.sbatch',\n",
       " '2012Intraday_RCC_newmatching150.sbatch',\n",
       " '2012Intraday_RCC_newmatching180.sbatch',\n",
       " '2012Intraday_RCC_newmatching60.sbatch',\n",
       " '2012Intraday_RCC_newmatching90.sbatch',\n",
       " '2012Intraday_RCC_newmatchingrest.sbatch',\n",
       " '2012Intraday_RCC_newmatching_120.py',\n",
       " '2012Intraday_RCC_newmatching_150.py',\n",
       " '2012Intraday_RCC_newmatching_180.py',\n",
       " '2012Intraday_RCC_newmatching_30.py',\n",
       " '2012Intraday_RCC_newmatching_60.py',\n",
       " '2012Intraday_RCC_newmatching_90.py',\n",
       " '2012Intraday_RCC_newmatching_rest.py']"
      ]
     },
     "execution_count": 18,
     "metadata": {},
     "output_type": "execute_result"
    }
   ],
   "source": [
    "new_filelist"
   ]
  },
  {
   "cell_type": "code",
   "execution_count": null,
   "metadata": {},
   "outputs": [],
   "source": []
  },
  {
   "cell_type": "code",
   "execution_count": null,
   "metadata": {},
   "outputs": [],
   "source": []
  },
  {
   "cell_type": "code",
   "execution_count": 11,
   "metadata": {},
   "outputs": [],
   "source": [
    "f.close()"
   ]
  },
  {
   "cell_type": "code",
   "execution_count": null,
   "metadata": {},
   "outputs": [],
   "source": []
  },
  {
   "cell_type": "code",
   "execution_count": 4,
   "metadata": {},
   "outputs": [
    {
     "data": {
      "text/plain": [
       "['2012Portfolio_RCC', 'py']"
      ]
     },
     "execution_count": 4,
     "metadata": {},
     "output_type": "execute_result"
    }
   ],
   "source": [
    "lis"
   ]
  },
  {
   "cell_type": "code",
   "execution_count": 9,
   "metadata": {},
   "outputs": [
    {
     "data": {
      "text/plain": [
       "<_io.TextIOWrapper name='2012Portfolio_RCC.py' mode='r+' encoding='cp936'>"
      ]
     },
     "execution_count": 9,
     "metadata": {},
     "output_type": "execute_result"
    }
   ],
   "source": [
    "f"
   ]
  },
  {
   "cell_type": "code",
   "execution_count": null,
   "metadata": {},
   "outputs": [],
   "source": []
  },
  {
   "cell_type": "code",
   "execution_count": 10,
   "metadata": {},
   "outputs": [],
   "source": [
    "s=f.read()"
   ]
  },
  {
   "cell_type": "code",
   "execution_count": null,
   "metadata": {},
   "outputs": [],
   "source": []
  },
  {
   "cell_type": "code",
   "execution_count": 7,
   "metadata": {},
   "outputs": [
    {
     "data": {
      "text/plain": [
       "''"
      ]
     },
     "execution_count": 7,
     "metadata": {},
     "output_type": "execute_result"
    }
   ],
   "source": [
    "s"
   ]
  },
  {
   "cell_type": "code",
   "execution_count": null,
   "metadata": {},
   "outputs": [],
   "source": []
  },
  {
   "cell_type": "code",
   "execution_count": 2,
   "metadata": {},
   "outputs": [
    {
     "data": {
      "text/plain": [
       "['2012nb_checkpoints']"
      ]
     },
     "execution_count": 2,
     "metadata": {},
     "output_type": "execute_result"
    }
   ],
   "source": [
    "lis"
   ]
  },
  {
   "cell_type": "code",
   "execution_count": null,
   "metadata": {},
   "outputs": [],
   "source": []
  },
  {
   "cell_type": "code",
   "execution_count": null,
   "metadata": {},
   "outputs": [],
   "source": []
  },
  {
   "cell_type": "code",
   "execution_count": null,
   "metadata": {},
   "outputs": [],
   "source": []
  },
  {
   "cell_type": "code",
   "execution_count": null,
   "metadata": {},
   "outputs": [],
   "source": []
  },
  {
   "cell_type": "code",
   "execution_count": null,
   "metadata": {},
   "outputs": [],
   "source": []
  },
  {
   "cell_type": "code",
   "execution_count": 22,
   "metadata": {},
   "outputs": [
    {
     "data": {
      "text/plain": [
       "'2014nb_checkpoints'"
      ]
     },
     "execution_count": 22,
     "metadata": {},
     "output_type": "execute_result"
    }
   ],
   "source": [
    "data"
   ]
  },
  {
   "cell_type": "code",
   "execution_count": null,
   "metadata": {},
   "outputs": [],
   "source": []
  },
  {
   "cell_type": "code",
   "execution_count": null,
   "metadata": {},
   "outputs": [],
   "source": []
  },
  {
   "cell_type": "code",
   "execution_count": null,
   "metadata": {},
   "outputs": [],
   "source": []
  },
  {
   "cell_type": "code",
   "execution_count": 18,
   "metadata": {},
   "outputs": [
    {
     "data": {
      "text/plain": [
       "'2015nb_checkpoints'"
      ]
     },
     "execution_count": 18,
     "metadata": {},
     "output_type": "execute_result"
    }
   ],
   "source": [
    "data"
   ]
  },
  {
   "cell_type": "code",
   "execution_count": null,
   "metadata": {},
   "outputs": [],
   "source": []
  },
  {
   "cell_type": "code",
   "execution_count": null,
   "metadata": {},
   "outputs": [],
   "source": []
  },
  {
   "cell_type": "code",
   "execution_count": null,
   "metadata": {},
   "outputs": [],
   "source": []
  },
  {
   "cell_type": "code",
   "execution_count": null,
   "metadata": {},
   "outputs": [],
   "source": []
  },
  {
   "cell_type": "code",
   "execution_count": null,
   "metadata": {},
   "outputs": [],
   "source": []
  },
  {
   "cell_type": "code",
   "execution_count": null,
   "metadata": {},
   "outputs": [],
   "source": []
  },
  {
   "cell_type": "code",
   "execution_count": null,
   "metadata": {},
   "outputs": [],
   "source": []
  },
  {
   "cell_type": "code",
   "execution_count": null,
   "metadata": {},
   "outputs": [],
   "source": []
  },
  {
   "cell_type": "code",
   "execution_count": 9,
   "metadata": {},
   "outputs": [
    {
     "name": "stdout",
     "output_type": "stream",
     "text": [
      "#!/bin/bash\n",
      "\n",
      "\n",
      "\n",
      "#SBATCH --job-name=FF_All_factor\n",
      "\n",
      "#SBATCH --ntasks=1\n",
      "\n",
      "#SBATCH --mem-per-cpu=55g\n",
      "\n",
      "\n",
      "\n",
      "module load python/3.7.0\n",
      "\n",
      "python  Intraday_RCC_newmatching_rest.py\n",
      "\n"
     ]
    }
   ],
   "source": [
    "\n"
   ]
  },
  {
   "cell_type": "code",
   "execution_count": null,
   "metadata": {},
   "outputs": [],
   "source": []
  },
  {
   "cell_type": "code",
   "execution_count": null,
   "metadata": {},
   "outputs": [],
   "source": []
  },
  {
   "cell_type": "code",
   "execution_count": 7,
   "metadata": {},
   "outputs": [
    {
     "data": {
      "text/plain": [
       "['未命名', 'ipynb']"
      ]
     },
     "execution_count": 7,
     "metadata": {},
     "output_type": "execute_result"
    }
   ],
   "source": []
  },
  {
   "cell_type": "code",
   "execution_count": null,
   "metadata": {},
   "outputs": [],
   "source": []
  },
  {
   "cell_type": "code",
   "execution_count": null,
   "metadata": {},
   "outputs": [],
   "source": []
  },
  {
   "cell_type": "code",
   "execution_count": null,
   "metadata": {},
   "outputs": [],
   "source": []
  },
  {
   "cell_type": "code",
   "execution_count": null,
   "metadata": {},
   "outputs": [],
   "source": []
  },
  {
   "cell_type": "code",
   "execution_count": null,
   "metadata": {},
   "outputs": [],
   "source": []
  },
  {
   "cell_type": "code",
   "execution_count": null,
   "metadata": {},
   "outputs": [],
   "source": []
  },
  {
   "cell_type": "code",
   "execution_count": null,
   "metadata": {},
   "outputs": [],
   "source": []
  }
 ],
 "metadata": {
  "kernelspec": {
   "display_name": "Python 3",
   "language": "python",
   "name": "python3"
  },
  "language_info": {
   "codemirror_mode": {
    "name": "ipython",
    "version": 3
   },
   "file_extension": ".py",
   "mimetype": "text/x-python",
   "name": "python",
   "nbconvert_exporter": "python",
   "pygments_lexer": "ipython3",
   "version": "3.7.4"
  }
 },
 "nbformat": 4,
 "nbformat_minor": 2
}
